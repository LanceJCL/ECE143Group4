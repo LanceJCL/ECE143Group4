{
 "cells": [
  {
   "cell_type": "code",
   "execution_count": 394,
   "metadata": {},
   "outputs": [],
   "source": [
    "import pandas as pd\n",
    "from collections import Counter\n",
    "import operator\n",
    "\n",
    "totaldf = pd.read_csv('totalnew.csv',low_memory=False)\n",
    "totaldfn = totaldf.reset_index()\n",
    "totaldf = totaldfn.drop(['index'], axis=1)\n",
    "\n",
    "\n",
    "df_certified = totaldf[totaldf.CASE_STATUS.isin(['CERTIFIED'])]\n",
    "df_certified = df_certified[df_certified.VISA_CLASS.isin(['H-1B'])]\n",
    "Sited = df_certified['WORKSITE_STATE']\n",
    "Companyd = df_certified['EMPLOYER_NAME']\n",
    "jobs = df_certified['SOC_CODE']\n",
    "Site = list(Sited)\n",
    "Company = list(Companyd)\n",
    "\n",
    "Site_count = dict(Counter(Site))\n",
    "Company_count = dict(Counter(Company))\n",
    "sorted_Site_count = sorted(Site_count.items(), key=operator.itemgetter(1),reverse=True)\n",
    "sorted_Company_count = sorted(Company_count.items(), key=operator.itemgetter(1),reverse=True)\n",
    "\n",
    "Counterlist = []\n",
    "for i in range(5):\n",
    "    company_name = sorted_Company_count[i][0]\n",
    "    temjobs = jobs[Companyd==company_name]\n",
    "    Counterlist.append(Counter(temjobs))\n",
    "list_jobs = []\n",
    "for i in range(5):\n",
    "    temdict = dict(Counterlist[i])\n",
    "    keys = list(temdict.keys())\n",
    "    [list_jobs.append(ele) for ele in keys]\n",
    "list_jobs = list(set(list_jobs))\n",
    "list_jobs\n",
    "input_array = np.zeros((5,len(list_jobs)))\n",
    "for i in range(5):\n",
    "    temdict = dict(Counterlist[i])\n",
    "    for j in range(len(list_jobs)):\n",
    "        if list_jobs[j] not in list(temdict.keys()):\n",
    "            input_array[i,j]=int(0)\n",
    "        else:\n",
    "            input_array[i,j]=int(temdict[list_jobs[j]])\n",
    "new_list = list_jobs.copy()\n",
    "for i in range(input_array.shape[1]):\n",
    "    if sum(input_array[:,i])<10000:\n",
    "        new_list[i] = 'nan'\n",
    "new_list = list(set(new_list))\n",
    "new_input = np.zeros((5,len(new_list)-1))\n",
    "tem_new = []\n",
    "for ele in new_list:\n",
    "    if ele != 'nan':\n",
    "        tem_new.append(ele)\n",
    "new_list = tem_new\n",
    "new_input=np.zeros((5,len(new_list)))\n",
    "for i in range(5):\n",
    "    temdict = dict(Counterlist[i])\n",
    "    for j in range(len(new_list)):\n",
    "        if new_list[j] not in list(temdict.keys()):\n",
    "            new_input[i,j]=int(0)\n",
    "        else:\n",
    "            new_input[i,j]=int(temdict[new_list[j]])\n",
    "new_list_name = []\n",
    "jobs_name = df_certified['SOC_NAME']\n",
    "for name in new_list:  \n",
    "    tem = list(jobs_name[jobs==name])[0]\n",
    "    new_list_name.append(tem)\n",
    "new_list_name.append('other')\n",
    "otherss = [] \n",
    "for i in range(5):\n",
    "    temvalue = sum(input_array[i]) -sum(new_input[i])\n",
    "    otherss.append(temvalue)\n",
    "new_input_new = np.concatenate((new_input,np.array(otherss).reshape(-1,1)),axis = 1)"
   ]
  },
  {
   "cell_type": "code",
   "execution_count": 407,
   "metadata": {
    "scrolled": true
   },
   "outputs": [
    {
     "data": {
      "text/html": [
       "<iframe id=\"igraph\" scrolling=\"no\" style=\"border:none;\" seamless=\"seamless\" src=\"https://plot.ly/~Lanceljc/57.embed\" height=\"525px\" width=\"100%\"></iframe>"
      ],
      "text/plain": [
       "<plotly.tools.PlotlyDisplay object>"
      ]
     },
     "execution_count": 407,
     "metadata": {},
     "output_type": "execute_result"
    }
   ],
   "source": [
    "import pandas as pd\n",
    "import numpy as np\n",
    "import plotly \n",
    "import plotly.plotly as py\n",
    "import plotly.graph_objs as go\n",
    "import cufflinks as cf\n",
    "\n",
    "plotly.tools.set_credentials_file(username='Lanceljc', api_key='9om7ohKNz7yvpYZ7ehlJ')\n",
    "cf.set_config_file(offline=False, world_readable=True, theme='ggplot')\n",
    "\n",
    "df = pd.DataFrame(new_input_new, columns=new_list_name)\n",
    "df.iplot(kind='barh',barmode='stack', bargap=.1)#, filename='cufflinks/barh')\n"
   ]
  },
  {
   "cell_type": "code",
   "execution_count": 336,
   "metadata": {},
   "outputs": [],
   "source": [
    "Salary = df_certified['PREVAILING_WAGE']\n",
    "Salary = Salary[df_certified['PW_UNIT_OF_PAY']=='Year']\n",
    "Salary = Salary.iloc[:].str.replace(',', '').astype(float)\n",
    "Salary_dict = dict(Counter(Salary))\n"
   ]
  },
  {
   "cell_type": "code",
   "execution_count": 405,
   "metadata": {},
   "outputs": [
    {
     "data": {
      "image/png": "[encoded data removed]",
      "text/plain": [
       "<Figure size 1440x720 with 1 Axes>"
      ]
     },
     "metadata": {
      "needs_background": "light"
     },
     "output_type": "display_data"
    }
   ],
   "source": [
    "import matplotlib.mlab as mlab\n",
    "x = list(Salary)\n",
    " \n",
    "num_bins = 40\n",
    "plt.figure(figsize=(20,10))\n",
    "# the histogram of the data\n",
    "n, bins, patches = plt.hist(x, num_bins, facecolor='orange', alpha=0.5)\n",
    " \n",
    "# add a 'best fit' line\n",
    "plt.xlabel('Annual Salary',fontsize=20)\n",
    "plt.ylabel('Counts',fontsize=20)\n",
    "plt.title(r'Distribution of Salary',fontsize=32)\n",
    "plt.axvline(sum(x)/len(x), color='k', linestyle='dashed', linewidth=1)\n",
    "plt.xlim((0, 430000))\n",
    "plt.text(sum(x)/len(x) + sum(x)/len(x)/10, \n",
    "         sum(x)/len(x) - sum(x)/len(x)/10, \n",
    "         'Mean: {:.2f}'.format(sum(x)/len(x)))\n",
    "# Tweak spacing to prevent clipping of ylabel\n",
    "plt.subplots_adjust(left=0.15)\n",
    "plt.show()"
   ]
  },
  {
   "cell_type": "code",
   "execution_count": 408,
   "metadata": {},
   "outputs": [],
   "source": [
    "aa = list(range(0,430000,5000))\n",
    "bb = list(range(5000,430000+5000,5000))\n",
    "new_ran = []\n",
    "for ind in range(len(aa)):\n",
    "    new_ran.append((aa[ind],bb[ind]))"
   ]
  },
  {
   "cell_type": "code",
   "execution_count": 306,
   "metadata": {},
   "outputs": [
    {
     "name": "stdout",
     "output_type": "stream",
     "text": [
      "[0, 0, 0, 492, 1257, 4199, 11620, 28887, 55564, 90085, 129862, 181011, 220815, 200807, 191439, 163338, 131251, 112468, 115137, 76857, 62483, 52371, 51786, 32528, 29382, 16958, 21016, 14148, 9292, 7424, 6677, 5686, 4354, 3685, 1956, 1571, 1359, 3895, 986, 1087, 826, 1443, 638, 468, 527, 552, 345, 235, 275, 284, 149, 127, 78, 85, 75, 46, 83, 35, 37, 74, 32, 4, 2, 9, 7, 7, 5, 6, 5, 8, 5, 2, 0, 0, 0, 0, 2, 0, 4, 3, 1, 0, 8, 0, 0, 0]\n"
     ]
    },
    {
     "data": {
      "image/png": "[encoded data removed]",
      "text/plain": [
       "<Figure size 1440x720 with 1 Axes>"
      ]
     },
     "metadata": {
      "needs_background": "light"
     },
     "output_type": "display_data"
    }
   ],
   "source": [
    "sorted_Salary = sorted(Salary_dict.items(), key=operator.itemgetter(1),reverse=True)\n",
    "rangelist = [(0,40000),(40000,50000),(50000,60000),(60000,70000),(70000,80000),(90000,100000),(100000,110000),(110000,120000),\n",
    "            (120000,130000),(130000,140000),(150000,420000)]\n",
    "rangelist = new_ran\n",
    "    \n",
    "salary_count = []\n",
    "for rangenumber in rangelist:\n",
    "    tems = Salary[Salary>rangenumber[0]]\n",
    "    temvalue = sum(tems<rangenumber[1])\n",
    "    salary_count.append(temvalue)\n",
    "import matplotlib.pyplot as plt\n",
    "print(salary_count)\n",
    "Dic = dict(zip(rangelist,salary_count))\n",
    "\n",
    "plt.figure(figsize=(20,10))\n",
    "plt.title('Salary Distribution Counts',fontsize=32)\n",
    "plt.bar(range(len(Dic)), list(Dic.values()), align='center')\n",
    "plt.xticks(range(len(Dic)), aa,fontsize=8)\n",
    "plt.xlabel('Salary interval',fontsize=16)\n",
    "plt.ylabel('Counts',fontsize=16)\n",
    "plt.show()\n"
   ]
  },
  {
   "cell_type": "code",
   "execution_count": 222,
   "metadata": {},
   "outputs": [],
   "source": [
    "jobs_count = dict(Counter(jobs))\n",
    "sorted_jobs_count = sorted(jobs_count.items(), key=operator.itemgetter(1),reverse=True)\n",
    "dict(sorted_jobs_count)\n",
    "jobs_id = list(dict(sorted_jobs_count).keys())\n",
    "jobs_name_list = []\n",
    "i=0\n",
    "for name in jobs_id:  \n",
    "    i+=1\n",
    "    if i>40:break\n",
    "    if i%50 ==0 :print(i)\n",
    "    tem = list(jobs_name[jobs==name])[0]\n",
    "    jobs_name_list.append(tem)\n",
    "    "
   ]
  },
  {
   "cell_type": "code",
   "execution_count": 235,
   "metadata": {},
   "outputs": [],
   "source": [
    "Company = totaldf[totaldf.VISA_CLASS.isin(['H-1B'])]['EMPLOYER_NAME']\n",
    "jobs_c = totaldf[totaldf.VISA_CLASS.isin(['H-1B'])]['SOC_NAME']\n",
    "Status = totaldf[totaldf.VISA_CLASS.isin(['H-1B'])]['CASE_STATUS']\n",
    "\n"
   ]
  },
  {
   "cell_type": "code",
   "execution_count": 264,
   "metadata": {},
   "outputs": [],
   "source": [
    "precent =[]\n",
    "precent_job = []\n",
    "number =[]\n",
    "top_com_list = []\n",
    "accecpted = []\n",
    "denied = []\n",
    "one = []\n",
    "other =[] \n",
    "for i in range(10):\n",
    "    jobname = jobs_name_list[i]\n",
    "    cor_company = Company[jobs_c==jobname]\n",
    "    tem_count = dict(Counter(list(cor_company)))\n",
    "    sorted_tem_count = sorted(tem_count.items(), key=operator.itemgetter(1),reverse=True)\n",
    "    top_com = sorted_tem_count[0][0]\n",
    "    top_com_list.append(top_com)\n",
    "    top_com_state = Status[Company == top_com]\n",
    "    number_c = sum(top_com_state=='CERTIFIED')\n",
    "    rate_c = number_c/(sum(top_com_state=='DENIED')+number_c)\n",
    "    accecpted.append(number_c)\n",
    "    denied.append(sum(top_com_state=='DENIED'))\n",
    "    top_com_job_state = jobs_c[Company == top_com]\n",
    "    rate_j = sum(top_com_job_state==jobname)/len(top_com_job_state)\n",
    "    one.append(sum(top_com_job_state==jobname))\n",
    "    other.append(sum(top_com_job_state!=jobname))\n",
    "    number.append(number_c)\n",
    "    precent.append(rate_c)\n",
    "    precent_job.append(rate_j)"
   ]
  },
  {
   "cell_type": "code",
   "execution_count": null,
   "metadata": {},
   "outputs": [],
   "source": []
  },
  {
   "cell_type": "code",
   "execution_count": 340,
   "metadata": {},
   "outputs": [
    {
     "data": {
      "text/html": [
       "<iframe id=\"igraph\" scrolling=\"no\" style=\"border:none;\" seamless=\"seamless\" src=\"https://plot.ly/~Lanceljc/37.embed\" height=\"525px\" width=\"100%\"></iframe>"
      ],
      "text/plain": [
       "<plotly.tools.PlotlyDisplay object>"
      ]
     },
     "execution_count": 340,
     "metadata": {},
     "output_type": "execute_result"
    }
   ],
   "source": [
    "import plotly.graph_objs as go\n",
    "\n",
    "N = len(accecpted)\n",
    "x = jobs_name_list[:N]#np.linspace(1, N, N)\n",
    "y = np.array(accecpted)\n",
    "x2 = top_com_list\n",
    "y2 = np.array(denied)\n",
    "for i in range(N):\n",
    "    x[i]=x[i]+'/// '+top_com_list[i]\n",
    "df = pd.DataFrame({'x': x, 'y': y, 'y2':y2})\n",
    "df.head()\n",
    "\n",
    "data = [\n",
    "    go.Bar(\n",
    "        x=df['x'], # assign x as the dataframe column 'x'\n",
    "        y=df['y']\n",
    "    ),\n",
    "    go.Bar(\n",
    "        x=df['x'],\n",
    "        y=df['y2']\n",
    "    )\n",
    "]\n",
    "\n",
    "layout = go.Layout(\n",
    "    barmode='stack',\n",
    "    title='Stacked Bar with Pandas'\n",
    ")\n",
    "\n",
    "fig = go.Figure(data=data, layout=layout)\n",
    "\n",
    "# IPython notebook\n",
    "py.iplot(fig, filename='pandas-bar-chart-layout')\n",
    "\n",
    "#url = py.plot(data, filename='pandas-bar-chart-layout')"
   ]
  }
 ],
 "metadata": {
  "kernelspec": {
   "display_name": "Python 3",
   "language": "python",
   "name": "python3"
  },
  "language_info": {
   "codemirror_mode": {
    "name": "ipython",
    "version": 3
   },
   "file_extension": ".py",
   "mimetype": "text/x-python",
   "name": "python",
   "nbconvert_exporter": "python",
   "pygments_lexer": "ipython3",
   "version": "3.6.5"
  }
 },
 "nbformat": 4,
 "nbformat_minor": 2
}
